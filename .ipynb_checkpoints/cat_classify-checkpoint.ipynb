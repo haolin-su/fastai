{
 "cells": [
  {
   "cell_type": "code",
   "execution_count": 1,
   "id": "fdc8a82a",
   "metadata": {},
   "outputs": [],
   "source": [
    "import fastbook\n",
    "fastbook.setup_book()\n",
    "from fastbook import *\n",
    "from fastai.vision.widgets import *"
   ]
  },
  {
   "cell_type": "code",
   "execution_count": 2,
   "id": "d0fb7c59",
   "metadata": {},
   "outputs": [],
   "source": [
    "key =os.environ.get('AZURE_SEARCH_KEY','d95434091c5f4fb3982c9e306ad42b68')"
   ]
  },
  {
   "cell_type": "code",
   "execution_count": 3,
   "id": "a5858aa2",
   "metadata": {},
   "outputs": [],
   "source": [
    "path=Path()\n",
    "learn_inf=load_learner(path/'export.pkl')"
   ]
  },
  {
   "cell_type": "code",
   "execution_count": 4,
   "id": "04d1ab4d",
   "metadata": {},
   "outputs": [],
   "source": [
    "btn_upload=widgets.FileUpload()\n",
    "out_pl=widgets.Output()\n",
    "btn_run=widgets.Button(description='Classify')\n",
    "lbl_pred=widgets.Label()\n",
    "\n",
    "def on_click_classify(change):\n",
    "    img = PILImage.create(btn_upload.data[-1])\n",
    "    out_pl.clear_output()\n",
    "    with out_pl: display(img.to_thumb(128,128))\n",
    "    pred, pred_idx, probs=learn_inf.predict(img)\n",
    "    lbl_pred.value=f'Prediction: {pred}: Probability: {probs[pred_idx]:.04f}'\n",
    "    \n",
    "    \n",
    "btn_run.on_click(on_click_classify)"
   ]
  },
  {
   "cell_type": "code",
   "execution_count": 5,
   "id": "44581570",
   "metadata": {},
   "outputs": [
    {
     "data": {
      "application/vnd.jupyter.widget-view+json": {
       "model_id": "c1dbc5d8b1384a6e82a941749dd75e76",
       "version_major": 2,
       "version_minor": 0
      },
      "text/plain": [
       "VBox(children=(Label(value='Select your cat'), FileUpload(value={}, description='Upload'), Button(description=…"
      ]
     },
     "metadata": {},
     "output_type": "display_data"
    }
   ],
   "source": [
    "VBox([widgets.Label('Select your cat'),\n",
    "         btn_upload, btn_run, out_pl, lbl_pred])"
   ]
  },
  {
   "cell_type": "code",
   "execution_count": null,
   "id": "7992a5ae",
   "metadata": {},
   "outputs": [],
   "source": []
  }
 ],
 "metadata": {
  "kernelspec": {
   "display_name": "Python 3",
   "language": "python",
   "name": "python3"
  },
  "language_info": {
   "codemirror_mode": {
    "name": "ipython",
    "version": 3
   },
   "file_extension": ".py",
   "mimetype": "text/x-python",
   "name": "python",
   "nbconvert_exporter": "python",
   "pygments_lexer": "ipython3",
   "version": "3.8.8"
  }
 },
 "nbformat": 4,
 "nbformat_minor": 5
}
